{
 "cells": [
  {
   "cell_type": "code",
   "execution_count": 13,
   "metadata": {},
   "outputs": [],
   "source": [
    "## 0 - Loading Data"
   ]
  },
  {
   "cell_type": "code",
   "execution_count": 14,
   "metadata": {},
   "outputs": [
    {
     "name": "stdout",
     "output_type": "stream",
     "text": [
      "0 Century Link\n",
      "1 Google\n",
      "2 Azure\n",
      "3 Amazon\n",
      "4 Oracle\n",
      "5 Alibaba\n",
      "6 DigitalOcean\n",
      "12 features removed (std +/- 3) -  all\n",
      "7 features removed (std +/- 3) -  large\n",
      "7 features removed (std +/- 3) -  medium\n",
      "21 features removed (std +/- 3) -  small\n",
      "Total working data: 98\n"
     ]
    }
   ],
   "source": [
    "%matplotlib inline\n",
    "import pandas as pd\n",
    "import numpy as np\n",
    "from matplotlib import pyplot as plt\n",
    "import seaborn as sns\n",
    "import warnings; warnings.simplefilter('ignore')\n",
    "from sklearn.preprocessing import PolynomialFeatures\n",
    "from sklearn.preprocessing import StandardScaler,MinMaxScaler,Normalizer,MaxAbsScaler\n",
    "from sklearn.pipeline import Pipeline\n",
    "from util import Util\n",
    "from cost_data_manager import CostDataManager\n",
    "from matplotlib.backends.backend_pdf import PdfPages\n",
    "\n",
    "# configuration\n",
    "############################################################\n",
    "np.random.seed(1001)\n",
    "report_directory = \"reports\" \n",
    "\n",
    "excel_file_video = r\"video_dataset_with_costs(cost).xlsx\"\n",
    "excel_file_mrs = r\"mrs_dataset_with_costs(cost).xlsx\"\n",
    "\n",
    "# set data mode ('mrs' or 'video')\n",
    "data_mode = \"video\"\n",
    "\n",
    "if data_mode == \"mrs\":\n",
    "    excel_file = excel_file_mrs\n",
    "elif data_mode == \"video\":\n",
    "    excel_file = excel_file_video\n",
    "\n",
    "\n",
    "cost_labels = [\n",
    "                'Century Link', \n",
    "                'Google', \n",
    "                'Azure', \n",
    "                'Amazon', \n",
    "                'Oracle', \n",
    "                'Alibaba', \n",
    "                'DigitalOcean'\n",
    "             ]\n",
    "used_features = ['Users',\n",
    "                 #'Avg. CPU utilization (%)',\n",
    "                 'Max CPU utilization (%)',\n",
    "                 'NW Egress (GB)',\n",
    "                 #'Avg RAM (unused, KiB)',\n",
    "                 'Avg RAM used (MB)',\n",
    "                 #'Disk write bytes rate',\n",
    "                 #'Disk read bytes',\n",
    "                 'Used storage(image size, GB)',\n",
    "                ] \n",
    "outcome_label = 'cost'\n",
    "############################################################\n",
    "\n",
    "dataManager = CostDataManager(excel_file, outcome_label, cost_labels, used_features, data_mode=data_mode)\n",
    "dataManager.load()\n",
    "dataManager.exportDataset()  \n",
    "\n",
    "def transformX(X):\n",
    "    scaler = StandardScaler()\n",
    "    \n",
    "    #X[\"Max CPU utilization (%)\"] =np.log(X[\"Max CPU utilization (%)\"].values)\n",
    "    #X[\"NW Egress (GB)\"] = np.sqrt(X[\"NW Egress (GB)\"].values)\n",
    "    #X[\"Avg RAM used (MB)\"] = np.sqrt(X[\"Avg RAM used (MB)\"].values)\n",
    "    #X[\"Max CPU utilization (%)\"] = np.log(X[\"Max CPU utilization (%)\"].values)\n",
    "    X1 = scaler.fit_transform(X)\n",
    "    X = pd.DataFrame(X1, columns=X.columns)      \n",
    "    return X\n",
    "\n",
    "def transformY(Y):\n",
    "    return Y\n",
    "    #data = Y.copy().values\n",
    "    #data = np.sqrt(data)\n",
    "    #ret = pd.Series(data)\n",
    "    #return ret \n",
    "def invTrans(X):\n",
    "    return X\n",
    "\n",
    "dataManager.setXTransform(transformX)\n",
    "dataManager.setYTransform(transformY)\n",
    "\n",
    "m_all = dataManager.getMetrics()\n",
    "if data_mode == 'mrs':\n",
    "    m_large = dataManager.getMetricsDBLarge()\n",
    "    m_xlarge = dataManager.getMetricsDBXLarge()\n",
    "elif data_mode == 'video':\n",
    "    m_small = dataManager.getMetricsVideoDBLarge()\n",
    "    m_medium = dataManager.getMetricsVideoDBMedium()\n",
    "    m_large = dataManager.getMetricsVideoDBSmall()\n",
    "\n",
    "working_metrics = m_large\n",
    "working_metrics_label = \"large\"\n",
    "print(\"Total working data:\", len(working_metrics))\n",
    "util = Util()\n",
    "util.setInvTrans(invTrans)\n",
    "working_metrics.head()\n",
    "X,Y = dataManager.getXY_panda(working_metrics)\n"
   ]
  },
  {
   "cell_type": "code",
   "execution_count": 15,
   "metadata": {},
   "outputs": [],
   "source": [
    "test_size = 0.3\n",
    "metrics = working_metrics\n",
    "_X,_Y = dataManager.getXY_panda(metrics)"
   ]
  },
  {
   "cell_type": "markdown",
   "metadata": {},
   "source": [
    "## 1 - Eigendecomposition (eigenvectors and eigenvalues)"
   ]
  },
  {
   "cell_type": "markdown",
   "metadata": {},
   "source": [
    "### Covariance matrix"
   ]
  },
  {
   "cell_type": "code",
   "execution_count": 17,
   "metadata": {},
   "outputs": [
    {
     "name": "stdout",
     "output_type": "stream",
     "text": [
      "Covariance matrix \n",
      "[[ 1.01030928e+00  8.36782736e-01  9.78471094e-01  8.51178084e-01\n",
      "   0.00000000e+00  7.04666308e-18  6.12388945e-18  6.12388945e-18\n",
      "  -9.14875237e-20 -9.14875237e-20  1.59323499e-17]\n",
      " [ 8.36782736e-01  1.01030928e+00  8.81097926e-01  8.63842179e-01\n",
      "   0.00000000e+00 -1.65075111e-17 -1.54753663e-17 -1.54753663e-17\n",
      "  -8.55465972e-18 -1.08437794e-17 -1.08437794e-17]\n",
      " [ 9.78471094e-01  8.81097926e-01  1.01030928e+00  9.57806928e-01\n",
      "   0.00000000e+00 -2.27629819e-17  4.49470575e-17  4.03688182e-17\n",
      "  -2.08001995e-17 -9.35460136e-18 -9.35460136e-18]\n",
      " [ 8.51178084e-01  8.63842179e-01  9.57806928e-01  1.01030928e+00\n",
      "   0.00000000e+00 -1.54931804e-17  5.36810228e-18  7.89863005e-19\n",
      "  -2.13800624e-18  7.01847232e-18 -2.13800624e-18]\n",
      " [ 0.00000000e+00  0.00000000e+00  0.00000000e+00  0.00000000e+00\n",
      "   0.00000000e+00  0.00000000e+00  0.00000000e+00  0.00000000e+00\n",
      "   0.00000000e+00  0.00000000e+00  0.00000000e+00]\n",
      " [ 7.04666308e-18 -1.65075111e-17 -2.27629819e-17 -1.54931804e-17\n",
      "   0.00000000e+00  1.01030928e+00 -1.68384880e-01 -1.68384880e-01\n",
      "  -1.68384880e-01 -1.68384880e-01 -1.68384880e-01]\n",
      " [ 6.12388945e-18 -1.54753663e-17  4.49470575e-17  5.36810228e-18\n",
      "   0.00000000e+00 -1.68384880e-01  1.01030928e+00 -1.68384880e-01\n",
      "  -1.68384880e-01 -1.68384880e-01 -1.68384880e-01]\n",
      " [ 6.12388945e-18 -1.54753663e-17  4.03688182e-17  7.89863005e-19\n",
      "   0.00000000e+00 -1.68384880e-01 -1.68384880e-01  1.01030928e+00\n",
      "  -1.68384880e-01 -1.68384880e-01 -1.68384880e-01]\n",
      " [ 6.12388945e-18 -1.54753663e-17  3.57905789e-17 -3.78837627e-18\n",
      "   0.00000000e+00 -1.68384880e-01 -1.68384880e-01 -1.68384880e-01\n",
      "   1.01030928e+00 -1.68384880e-01 -1.68384880e-01]\n",
      " [ 6.12388945e-18 -1.54753663e-17  3.12123396e-17 -8.36661555e-18\n",
      "   0.00000000e+00 -1.68384880e-01 -1.68384880e-01 -1.68384880e-01\n",
      "  -1.68384880e-01  1.01030928e+00 -1.68384880e-01]\n",
      " [ 6.12388945e-18 -1.54753663e-17  4.49470575e-17  5.36810228e-18\n",
      "   0.00000000e+00 -1.68384880e-01 -1.68384880e-01 -1.68384880e-01\n",
      "  -1.68384880e-01 -1.68384880e-01  1.01030928e+00]]\n"
     ]
    }
   ],
   "source": [
    "X = _X.values\n",
    "mean_vec = np.mean(X, axis=0)\n",
    "cov_mat = (X-mean_vec).T.dot(X-mean_vec)/(X.shape[0]-1)\n",
    "print('Covariance matrix \\n%s' %cov_mat)"
   ]
  },
  {
   "cell_type": "code",
   "execution_count": 18,
   "metadata": {},
   "outputs": [],
   "source": [
    "### 1.1 - Eigendecomposition"
   ]
  },
  {
   "cell_type": "code",
   "execution_count": 19,
   "metadata": {},
   "outputs": [
    {
     "name": "stdout",
     "output_type": "stream",
     "text": [
      "Eigenvectors \n",
      "[[-4.97730119e-01 -1.62717974e-28 -1.85985999e-28 -1.47401146e-28\n",
      "   6.38063173e-24  2.22308798e-16 -5.78266008e-01  5.85020695e-17\n",
      "  -4.41665246e-01 -4.72022206e-01 -1.47318435e-27]\n",
      " [-4.85203228e-01 -3.01163234e-18 -2.10630174e-18  8.97681399e-19\n",
      "   1.39079682e-18  1.21764746e-17  7.52046597e-01  9.24027873e-16\n",
      "  -4.46032634e-01  7.65724713e-03  1.32096641e-28]\n",
      " [-5.18097433e-01  7.42448429e-19  6.33905054e-19  8.44708766e-19\n",
      "  -6.40887092e-19  8.84519958e-19 -2.83554352e-01 -2.07733979e-16\n",
      "   9.92496446e-02  8.00825504e-01  2.50863835e-27]\n",
      " [-4.98415094e-01  2.11539583e-18  1.37766688e-18 -1.90436969e-18\n",
      "  -6.17765765e-19  5.60155403e-17  1.40111636e-01 -7.30102891e-16\n",
      "   7.72098574e-01 -3.68530753e-01 -1.26506264e-27]\n",
      " [ 0.00000000e+00 -2.63677968e-16 -1.38777878e-17  1.14491749e-16\n",
      "   5.55111512e-17  0.00000000e+00  0.00000000e+00  8.32667268e-17\n",
      "   0.00000000e+00  0.00000000e+00 -1.00000000e+00]\n",
      " [-1.29995471e-16 -1.87142987e-03 -8.16775497e-03  1.16330973e-02\n",
      "  -2.92587172e-03 -9.12753652e-01 -3.55067978e-16  4.08248290e-01\n",
      "   3.68909101e-16 -1.67193239e-16 -2.41416830e-16]\n",
      " [ 2.93711326e-17  3.44824171e-01 -6.17814418e-01 -2.52846295e-01\n",
      "  -4.84046809e-01  1.85748238e-01 -2.30858313e-16  4.08248290e-01\n",
      "   4.26436383e-16 -6.07172344e-18  4.20226881e-17]\n",
      " [ 2.92235360e-17 -2.06979720e-01 -4.04019146e-01  2.59844237e-02\n",
      "   7.69769734e-01  1.84501016e-01 -2.33343262e-16  4.08248290e-01\n",
      "   4.29565394e-16 -6.40719479e-18  1.53321929e-16]\n",
      " [ 2.79710946e-17  6.89280378e-01  5.32875931e-01  3.38610485e-02\n",
      "   2.05133270e-01  1.76189974e-01 -2.30212459e-16  4.08248290e-01\n",
      "   4.23812912e-16 -7.58844571e-18  4.41450491e-17]\n",
      " [ 2.75869148e-17 -5.18982609e-01  4.02646403e-01 -5.86687725e-01\n",
      "  -1.66418324e-01  1.73114741e-01 -2.32867773e-16  4.08248290e-01\n",
      "   4.26063922e-16 -7.53478562e-18 -3.84388390e-17]\n",
      " [ 3.03898393e-17 -3.06270790e-01  9.44789848e-02  7.68055450e-01\n",
      "  -3.21512000e-01  1.93199683e-01 -2.30676080e-16  4.08248290e-01\n",
      "   4.29359543e-16 -6.47416888e-18  6.81237105e-17]]\n",
      "\n",
      "Eigenvalues \n",
      "[3.69689183e+00 1.23226413e-03 1.95615315e-01 1.47497708e-01\n",
      " 1.68384880e-01 1.17869416e+00 1.17869416e+00 1.17869416e+00\n",
      " 1.17869416e+00 1.17869416e+00 0.00000000e+00]\n",
      "Everything ok!\n"
     ]
    }
   ],
   "source": [
    "eig_vals, _ = np.linalg.eig(cov_mat)\n",
    "\n",
    "u,s,v = np.linalg.svd(X.T)\n",
    "eig_vecs = u\n",
    "\n",
    "print('Eigenvectors \\n%s' %eig_vecs)\n",
    "print('\\nEigenvalues \\n%s' %eig_vals)\n",
    "\n",
    "for ev in eig_vecs:\n",
    "    np.testing.assert_array_almost_equal(1.0, np.linalg.norm(ev))\n",
    "print('Everything ok!')"
   ]
  },
  {
   "cell_type": "markdown",
   "metadata": {},
   "source": [
    "### 1.2 - Selecting Principal Components"
   ]
  },
  {
   "cell_type": "code",
   "execution_count": 20,
   "metadata": {},
   "outputs": [
    {
     "name": "stdout",
     "output_type": "stream",
     "text": [
      "Eigenvalues in descending order:\n",
      "3.696891827060959\n",
      "1.1786941580756043\n",
      "1.1786941580756036\n",
      "1.1786941580756027\n",
      "1.1786941580756018\n",
      "1.1786941580756\n",
      "0.19561531455115544\n",
      "0.16838487972508798\n",
      "0.14749770765938888\n",
      "0.0012322641305575434\n",
      "0.0\n"
     ]
    }
   ],
   "source": [
    "# Make a list of (eigenvalue, eigenvector) tuples\n",
    "eig_pairs = [(np.abs(eig_vals[i]), eig_vecs[:,i]) for i in range(len(eig_vals))]\n",
    "\n",
    "# Sort the (eigenvalue, eigenvector) tuples from high to low\n",
    "eig_pairs.sort()\n",
    "eig_pairs.reverse()\n",
    "\n",
    "# Visually confirm that the list is correctly sorted by decreasing eigenvalues\n",
    "print('Eigenvalues in descending order:')\n",
    "for i in eig_pairs:\n",
    "    print(i[0])"
   ]
  },
  {
   "cell_type": "code",
   "execution_count": 21,
   "metadata": {},
   "outputs": [
    {
     "data": {
      "image/png": "[encoded data removed]",
      "text/plain": [
       "<Figure size 432x288 with 1 Axes>"
      ]
     },
     "metadata": {},
     "output_type": "display_data"
    }
   ],
   "source": [
    "tot = sum(eig_vals)\n",
    "var_exp = [(i / tot)*100 for i in sorted(eig_vals, reverse=True)]\n",
    "cum_var_exp = np.cumsum(var_exp)\n",
    "\n",
    "index = np.arange(len(var_exp))\n",
    "plt.bar(index, var_exp)\n",
    "plt.xlabel('PC')\n",
    "plt.ylabel('Explained variance in percent')\n",
    "plt.xticks(np.array(range(len(var_exp))))\n",
    "plt.title('Explained variance by different principal components')\n",
    "plt.plot(index, cum_var_exp, color='green')\n",
    "plt.show()\n"
   ]
  },
  {
   "cell_type": "code",
   "execution_count": 22,
   "metadata": {},
   "outputs": [
    {
     "name": "stdout",
     "output_type": "stream",
     "text": [
      "Matrix W:\n",
      " [[-4.97730119e-01 -5.78266008e-01 -4.72022206e-01  5.85020695e-17]\n",
      " [-4.85203228e-01  7.52046597e-01  7.65724713e-03  9.24027873e-16]\n",
      " [-5.18097433e-01 -2.83554352e-01  8.00825504e-01 -2.07733979e-16]\n",
      " [-4.98415094e-01  1.40111636e-01 -3.68530753e-01 -7.30102891e-16]\n",
      " [ 0.00000000e+00  0.00000000e+00  0.00000000e+00  8.32667268e-17]\n",
      " [-1.29995471e-16 -3.55067978e-16 -1.67193239e-16  4.08248290e-01]\n",
      " [ 2.93711326e-17 -2.30858313e-16 -6.07172344e-18  4.08248290e-01]\n",
      " [ 2.92235360e-17 -2.33343262e-16 -6.40719479e-18  4.08248290e-01]\n",
      " [ 2.79710946e-17 -2.30212459e-16 -7.58844571e-18  4.08248290e-01]\n",
      " [ 2.75869148e-17 -2.32867773e-16 -7.53478562e-18  4.08248290e-01]\n",
      " [ 3.03898393e-17 -2.30676080e-16 -6.47416888e-18  4.08248290e-01]]\n"
     ]
    }
   ],
   "source": [
    "# Number of selected principle components\n",
    "pca_num = 4\n",
    "eig_pairs_selected = [eig_pairs[i][1].reshape(_X.shape[1],1) for i in range(pca_num)]\n",
    "matrix_w = np.hstack(eig_pairs_selected)\n",
    "print('Matrix W:\\n', matrix_w)\n"
   ]
  },
  {
   "cell_type": "markdown",
   "metadata": {},
   "source": [
    "### 1.3 - Projection to the new feature space"
   ]
  },
  {
   "cell_type": "code",
   "execution_count": 27,
   "metadata": {},
   "outputs": [],
   "source": [
    "# We're transforming original features X with projection matrix W\n",
    "# X1 = X x W\n",
    "X1 = X.dot(matrix_w)"
   ]
  },
  {
   "cell_type": "markdown",
   "metadata": {},
   "source": [
    "## 2 - Learning with PCA transformed data"
   ]
  },
  {
   "cell_type": "code",
   "execution_count": 28,
   "metadata": {},
   "outputs": [],
   "source": [
    "# combined from (1.)\n",
    "def pca_tranform(X, pca_num):\n",
    "    mean_vec = np.mean(X, axis=0)\n",
    "    cov_mat = (X-mean_vec).T.dot(X-mean_vec)/(X.shape[0]-1)\n",
    "    eig_vals, _ = np.linalg.eig(cov_mat)\n",
    "    u,s,v = np.linalg.svd(X.T)\n",
    "    eig_vecs = u\n",
    "    # Make a list of (eigenvalue, eigenvector) tuples\n",
    "    eig_pairs = [(np.abs(eig_vals[i]), eig_vecs[:,i]) for i in range(len(eig_vals))]\n",
    "\n",
    "    # Sort the (eigenvalue, eigenvector) tuples from high to low\n",
    "    eig_pairs.sort()\n",
    "    eig_pairs.reverse()\n",
    "    eig_pairs_selected = [eig_pairs[i][1].reshape(_X.shape[1],1) for i in range(pca_num)]\n",
    "    matrix_w = np.hstack(eig_pairs_selected)\n",
    "    \n",
    "    return X.dot(matrix_w)\n"
   ]
  },
  {
   "cell_type": "code",
   "execution_count": 29,
   "metadata": {},
   "outputs": [],
   "source": [
    "def pcr(X,y,pc):\n",
    "\n",
    "    Xreg = pca_tranform(X,pc)\n",
    "\n",
    "    model = LinearRegression()\n",
    "    model.fit(Xreg, y)\n",
    "\n",
    "    y_c = model.predict(Xreg)\n",
    "\n",
    "    y_cv = cross_val_predict(model, Xreg, y, cv=10)\n",
    "\n",
    "    # Calculate scores for calibration and cross-validation\n",
    "    score_c = r2_score(y, y_c)\n",
    "    score_cv = r2_score(y, y_cv)\n",
    "\n",
    "    y2, y_c2 = util.inverse_transform(y, y_c, util.inv_trans)\n",
    "    y2, y_cv2 = util.inverse_transform(y, y_cv, util.inv_trans)\n",
    "\n",
    "    # Calculate mean square error for calibration and cross validation\n",
    "    mae_c = mean_absolute_error(y2, y_c2)\n",
    "    mae_cv = mean_absolute_error(y2, y_cv2)\n",
    "\n",
    "    return(y_cv, score_c, score_cv, mae_c, mae_cv, model)"
   ]
  },
  {
   "cell_type": "code",
   "execution_count": 26,
   "metadata": {},
   "outputs": [
    {
     "ename": "NameError",
     "evalue": "name 'LinearRegression' is not defined",
     "output_type": "error",
     "traceback": [
      "\u001b[1;31m---------------------------------------------------------------------------\u001b[0m",
      "\u001b[1;31mNameError\u001b[0m                                 Traceback (most recent call last)",
      "\u001b[1;32m<ipython-input-26-962ac4fa88a2>\u001b[0m in \u001b[0;36m<module>\u001b[1;34m()\u001b[0m\n\u001b[0;32m      8\u001b[0m \u001b[0mmax_pca\u001b[0m \u001b[1;33m=\u001b[0m \u001b[0mX\u001b[0m\u001b[1;33m.\u001b[0m\u001b[0mshape\u001b[0m\u001b[1;33m[\u001b[0m\u001b[1;36m1\u001b[0m\u001b[1;33m]\u001b[0m\u001b[1;33m\u001b[0m\u001b[0m\n\u001b[0;32m      9\u001b[0m \u001b[1;32mfor\u001b[0m \u001b[0mi\u001b[0m \u001b[1;32min\u001b[0m \u001b[0mrange\u001b[0m\u001b[1;33m(\u001b[0m\u001b[1;36m1\u001b[0m\u001b[1;33m,\u001b[0m\u001b[0mmax_pca\u001b[0m\u001b[1;33m)\u001b[0m\u001b[1;33m:\u001b[0m\u001b[1;33m\u001b[0m\u001b[0m\n\u001b[1;32m---> 10\u001b[1;33m     \u001b[0mpredicted\u001b[0m\u001b[1;33m,\u001b[0m \u001b[0mr2r\u001b[0m\u001b[1;33m,\u001b[0m \u001b[0mr2cv\u001b[0m\u001b[1;33m,\u001b[0m \u001b[0mmser\u001b[0m\u001b[1;33m,\u001b[0m \u001b[0mmscv\u001b[0m\u001b[1;33m,\u001b[0m \u001b[0mmodel\u001b[0m \u001b[1;33m=\u001b[0m \u001b[0mpcr\u001b[0m\u001b[1;33m(\u001b[0m\u001b[0mX\u001b[0m\u001b[1;33m,\u001b[0m\u001b[0mY\u001b[0m\u001b[1;33m,\u001b[0m \u001b[0mpc\u001b[0m\u001b[1;33m=\u001b[0m\u001b[0mi\u001b[0m\u001b[1;33m)\u001b[0m\u001b[1;33m\u001b[0m\u001b[0m\n\u001b[0m\u001b[0;32m     11\u001b[0m     \u001b[0m_r2r\u001b[0m\u001b[1;33m.\u001b[0m\u001b[0mappend\u001b[0m\u001b[1;33m(\u001b[0m\u001b[0mr2r\u001b[0m\u001b[1;33m)\u001b[0m\u001b[1;33m\u001b[0m\u001b[0m\n\u001b[0;32m     12\u001b[0m     \u001b[0m_r2cv\u001b[0m\u001b[1;33m.\u001b[0m\u001b[0mappend\u001b[0m\u001b[1;33m(\u001b[0m\u001b[0mr2cv\u001b[0m\u001b[1;33m)\u001b[0m\u001b[1;33m\u001b[0m\u001b[0m\n",
      "\u001b[1;32m<ipython-input-25-4828c528c8b2>\u001b[0m in \u001b[0;36mpcr\u001b[1;34m(X, y, pc)\u001b[0m\n\u001b[0;32m      3\u001b[0m     \u001b[0mXreg\u001b[0m \u001b[1;33m=\u001b[0m \u001b[0mpca_tranform\u001b[0m\u001b[1;33m(\u001b[0m\u001b[0mX\u001b[0m\u001b[1;33m,\u001b[0m\u001b[0mpc\u001b[0m\u001b[1;33m)\u001b[0m\u001b[1;33m\u001b[0m\u001b[0m\n\u001b[0;32m      4\u001b[0m \u001b[1;33m\u001b[0m\u001b[0m\n\u001b[1;32m----> 5\u001b[1;33m     \u001b[0mmodel\u001b[0m \u001b[1;33m=\u001b[0m \u001b[0mLinearRegression\u001b[0m\u001b[1;33m(\u001b[0m\u001b[1;33m)\u001b[0m\u001b[1;33m\u001b[0m\u001b[0m\n\u001b[0m\u001b[0;32m      6\u001b[0m     \u001b[0mmodel\u001b[0m\u001b[1;33m.\u001b[0m\u001b[0mfit\u001b[0m\u001b[1;33m(\u001b[0m\u001b[0mXreg\u001b[0m\u001b[1;33m,\u001b[0m \u001b[0my\u001b[0m\u001b[1;33m)\u001b[0m\u001b[1;33m\u001b[0m\u001b[0m\n\u001b[0;32m      7\u001b[0m \u001b[1;33m\u001b[0m\u001b[0m\n",
      "\u001b[1;31mNameError\u001b[0m: name 'LinearRegression' is not defined"
     ]
    }
   ],
   "source": [
    "metrics = working_metrics\n",
    "X,Y = dataManager.getXY_panda(metrics)\n",
    "_r2r = []\n",
    "_r2cv = []\n",
    "_mser = []\n",
    "_mscv = []\n",
    "_predicted = []\n",
    "max_pca = X.shape[1]\n",
    "for i in range(1,max_pca):  \n",
    "    predicted, r2r, r2cv, mser, mscv, model = pcr(X,Y, pc=i)\n",
    "    _r2r.append(r2r)\n",
    "    _r2cv.append(r2cv)\n",
    "    _mser.append(mser)\n",
    "    _mscv.append(mscv)\n",
    "    _predicted.append(predicted)\n",
    "\n",
    "fig, (ax1, ax2) = plt.subplots(1,2, figsize=(12,5))\n",
    "ax1.plot(np.arange(1,max_pca), _r2r, '-vr')\n",
    "ax1.plot(np.arange(1,max_pca), _r2cv, '-v')\n",
    "ax1.set_ylabel('R2')\n",
    "ax1.set_xlabel('Number of principal components in regression')\n",
    "ax2.plot(np.arange(1,max_pca), _mser, '-vr')\n",
    "ax2.plot(np.arange(1,max_pca), _mscv, '-v')\n",
    "ax2.set_ylabel('MAE')\n",
    "ax2.set_xlabel('Number of principal components in regression')\n",
    "    \n",
    "# best case\n",
    "predicted, r2r, r2cv, mser, mscv, model = pcr(X,Y, pc=4)\n",
    "\n",
    "# Regression plot\n",
    "# green line -> ideal 100% correlation between measured and predicted\n",
    "# blue line -> actual correlation\n",
    "z = np.polyfit(Y, predicted, 1)\n",
    "with plt.style.context(('ggplot')):\n",
    "    fig, ax = plt.subplots(figsize=(9, 5))\n",
    "    ax.scatter(Y, predicted, c='red', edgecolors='k')\n",
    "    ax.plot(Y, z[1]+z[0]*Y, c='blue', linewidth=1)\n",
    "    ax.plot(Y, Y, color='green', linewidth=1)\n",
    "    plt.title('$R^{2}$ (CV): '+str(r2cv))\n",
    "    plt.xlabel('Measured $^{\\circ}$Brix')\n",
    "    plt.ylabel('Predicted $^{\\circ}$Brix')\n",
    "    plt.show()\n",
    "    \n",
    "util.regression_report(Y, predicted,\"PCA\", X.shape[1])\n",
    "regression_models[\"PCA\"] = {'model': model,  'X_train': X, 'X_test': X, 'Y_train': Y, 'Y_test': Y, 'predicted': predicted}\n",
    "    "
   ]
  },
  {
   "cell_type": "code",
   "execution_count": null,
   "metadata": {},
   "outputs": [],
   "source": []
  },
  {
   "cell_type": "code",
   "execution_count": null,
   "metadata": {},
   "outputs": [],
   "source": []
  }
 ],
 "metadata": {
  "kernelspec": {
   "display_name": "Python 3",
   "language": "python",
   "name": "python3"
  },
  "language_info": {
   "codemirror_mode": {
    "name": "ipython",
    "version": 3
   },
   "file_extension": ".py",
   "mimetype": "text/x-python",
   "name": "python",
   "nbconvert_exporter": "python",
   "pygments_lexer": "ipython3",
   "version": "3.6.5"
  }
 },
 "nbformat": 4,
 "nbformat_minor": 2
}
